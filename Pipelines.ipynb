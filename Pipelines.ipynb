{
 "cells": [
  {
   "cell_type": "code",
   "execution_count": 4,
   "id": "5d4f75c4",
   "metadata": {},
   "outputs": [],
   "source": [
    "import spacy\n",
    "## a pipeline is a suite of structured instructions\n",
    "## it's useful if you wanna only do some specific tasks so that don't use the pipeline from core_web that will add some necessary steps\n",
    "## you win in time but you lose in accuracy"
   ]
  },
  {
   "cell_type": "code",
   "execution_count": 2,
   "id": "be70e136",
   "metadata": {},
   "outputs": [],
   "source": [
    "nlp = spacy.blank(\"en\") ## blank spacy pipeline with english tokenizer"
   ]
  },
  {
   "cell_type": "code",
   "execution_count": 3,
   "id": "f69fa3e6",
   "metadata": {},
   "outputs": [
    {
     "data": {
      "text/plain": [
       "<spacy.pipeline.sentencizer.Sentencizer at 0x2421794b3c0>"
      ]
     },
     "execution_count": 3,
     "metadata": {},
     "output_type": "execute_result"
    }
   ],
   "source": [
    "nlp.add_pipe(\"sentencizer\")  ## add a sentencizer to the pipeline"
   ]
  },
  {
   "cell_type": "code",
   "execution_count": 5,
   "id": "209bc7db",
   "metadata": {},
   "outputs": [
    {
     "data": {
      "text/plain": [
       "{'summary': {'sentencizer': {'assigns': ['token.is_sent_start', 'doc.sents'],\n",
       "   'requires': [],\n",
       "   'scores': ['sents_f', 'sents_p', 'sents_r'],\n",
       "   'retokenizes': False}},\n",
       " 'problems': {'sentencizer': []},\n",
       " 'attrs': {'token.is_sent_start': {'assigns': ['sentencizer'], 'requires': []},\n",
       "  'doc.sents': {'assigns': ['sentencizer'], 'requires': []}}}"
      ]
     },
     "execution_count": 5,
     "metadata": {},
     "output_type": "execute_result"
    }
   ],
   "source": [
    "nlp.analyze_pipes() ## know the different pipes used in the pipeline"
   ]
  },
  {
   "cell_type": "code",
   "execution_count": null,
   "id": "842d1a8c",
   "metadata": {},
   "outputs": [],
   "source": []
  }
 ],
 "metadata": {
  "kernelspec": {
   "display_name": "Python 3 (ipykernel)",
   "language": "python",
   "name": "python3"
  },
  "language_info": {
   "codemirror_mode": {
    "name": "ipython",
    "version": 3
   },
   "file_extension": ".py",
   "mimetype": "text/x-python",
   "name": "python",
   "nbconvert_exporter": "python",
   "pygments_lexer": "ipython3",
   "version": "3.9.13"
  }
 },
 "nbformat": 4,
 "nbformat_minor": 5
}
